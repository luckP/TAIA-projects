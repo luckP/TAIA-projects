{
 "cells": [
  {
   "cell_type": "code",
   "execution_count": 1,
   "metadata": {},
   "outputs": [],
   "source": [
    "from BIFParser import *\n",
    "import Factor\n",
    "\n",
    "from random import uniform\n",
    "import numpy as np\n",
    "import pandas as pd\n",
    "import copy\n",
    "from matplotlib.pyplot import plot\n",
    "from matplotlib.pyplot import figure\n",
    "\n",
    "from time import time"
   ]
  },
  {
   "cell_type": "markdown",
   "metadata": {},
   "source": [
    "## Generate Nodes"
   ]
  },
  {
   "cell_type": "markdown",
   "metadata": {},
   "source": [
    "Usamos esta função para fazer a criação dos nós, apartir do ficheiro dado. E esta função retorna um ficheiro bif contendo a configuração da rede. "
   ]
  },
  {
   "cell_type": "code",
   "execution_count": 2,
   "metadata": {},
   "outputs": [],
   "source": [
    "def generate_nodes(path):\n",
    "    file = open(path)\n",
    "    BIF = file.readlines()\n",
    "    BIF = fixWhiteSpace(BIF)\n",
    "    return parseBIF(BIF)"
   ]
  },
  {
   "cell_type": "markdown",
   "metadata": {},
   "source": [
    "## SelectIndex"
   ]
  },
  {
   "cell_type": "markdown",
   "metadata": {},
   "source": [
    "A função sample foi utilizada para criar uma amostra de acordo com os valores de probabilidade de cada nó.<br>\n",
    "O selectIndex recebe um valor gerado de forma aleatoria utilizando uma distribuição uniforme e uma distribuição de probabilidade, e seleciona o index a que pertence o valor gerado.<br>\n",
    "O getValue é uma função recursiva que calcula o indice do valor referente a variavel n, apartir do valor dos seus respectivos pais caso haja, caso não tenha pai(s) apanha apartir da probabilidade da variavel v. "
   ]
  },
  {
   "cell_type": "code",
   "execution_count": 3,
   "metadata": {},
   "outputs": [],
   "source": [
    "def selectIndex(dist, val):\n",
    "    n = 0\n",
    "    for i in range(len(dist)) :\n",
    "        n += dist[i]\n",
    "        if n>=val:\n",
    "            return i\n",
    "\n",
    "def getValue(rv, v, n):\n",
    "    if(rv[n.getIndex()]!=None):\n",
    "        return rv[n.getIndex()]\n",
    "    if n.numParents() == 0:\n",
    "        rv[n.getIndex()] = selectIndex(n.getDist().values()[0], v[n.getIndex()])\n",
    "        return rv[n.getIndex()]\n",
    "    key = ((n.getStates(), ))\n",
    "    p_key = ()\n",
    "    for p in n.getParents():\n",
    "        p_key += (p.getStates()[getValue(rv, v, p)], )\n",
    "    key+= (p_key, )\n",
    "    rv[n.getIndex()] = selectIndex(n.getDist()[key], v[n.getIndex()])\n",
    "    return rv[n.getIndex()]\n",
    "\n",
    "def sample(nodes, node=None, val_index=None):\n",
    "    v = [uniform(0,1) for n in nodes]\n",
    "    rv = {n.getIndex(): None for n in nodes}\n",
    "    if(node!=None and val_index!=None):\n",
    "        rv[node.getIndex()] = val_index\n",
    "    sample = []\n",
    "    for n in nodes:\n",
    "        sample.append(getValue(rv, v, n))\n",
    "    return sample"
   ]
  },
  {
   "cell_type": "markdown",
   "metadata": {},
   "source": [
    "## converge"
   ]
  },
  {
   "cell_type": "markdown",
   "metadata": {},
   "source": [
    "É uma função que recebe os dados gerados e verifica se houve alteração inferior a .000001 nas duas últimas iterações para verificar se de facto os dados convergem."
   ]
  },
  {
   "cell_type": "code",
   "execution_count": 4,
   "metadata": {},
   "outputs": [],
   "source": [
    "def converge(data):\n",
    "    if len(data)>1000:\n",
    "        a = data[len(data)-1]\n",
    "        b = data[len(data)-2]\n",
    "        print a\n",
    "        print b\n",
    "        return False if np.abs(np.sum(a)-np.sum(b)) > .000001 else True\n",
    "    return False"
   ]
  },
  {
   "cell_type": "markdown",
   "metadata": {},
   "source": [
    "Essa seria a função que calcularia a probabilidade de acordo com a função dada no enunciado do trabalho. "
   ]
  },
  {
   "cell_type": "code",
   "execution_count": 5,
   "metadata": {},
   "outputs": [],
   "source": [
    "def hope(nodes, sample, n):\n",
    "    b = 1.0\n",
    "    a = 1.0\n",
    "    \n",
    "    for node in n.getChildren():\n",
    "        key = (node.getStates(), )\n",
    "        p_vals = ()\n",
    "        for p in node.getParents():\n",
    "            states = p.getStates()\n",
    "            p_vals += (states[sample[p.getIndex()]], )\n",
    "        key += (p_vals, )\n",
    "        b *= node.dist.get(key)[sample[node.getIndex()]]\n",
    "        a *= 1-node.dist.get(key)[sample[node.getIndex()]]\n",
    "        \n",
    "    if n.isRoot():\n",
    "        b *= n.dist.get(n.getStates())[int(sample[n.getIndex()])]\n",
    "        a *= 1-n.dist.get(n.getStates())[int(sample[n.getIndex()])]\n",
    "    else:\n",
    "        key = (n.getStates(), )\n",
    "        p_vals = ()\n",
    "        for p in n.getParents():\n",
    "            states = p.getStates()\n",
    "            p_vals += (states[sample[p.getIndex()]], )\n",
    "        key += (p_vals, )\n",
    "        b *= n.dist.get(key)[sample[n.getIndex()]]\n",
    "        a *= 1-n.dist.get(key)[sample[n.getIndex()]]\n",
    "        \n",
    "\n",
    "    a = b + a\n",
    "    return b/a if a!= 0 else 0"
   ]
  },
  {
   "cell_type": "markdown",
   "metadata": {},
   "source": [
    "## gibbs_sampling"
   ]
  },
  {
   "cell_type": "markdown",
   "metadata": {},
   "source": [
    "Essa vai ser a função principal que foi implementar o algoritmo do Gibbs sampling, que corre por um número de iterações definido pela variável num_times ou pela convergência dos dados, calculado pela função dita anteriormente e em cada iteração gera uma nova amostra e acumula o valor de probabilidade."
   ]
  },
  {
   "cell_type": "code",
   "execution_count": 10,
   "metadata": {},
   "outputs": [],
   "source": [
    "def gibbs_sampling(path, node_index = 0):\n",
    "    nodes = generate_nodes(path)\n",
    "    selected_node = nodes[node_index]\n",
    "    data = []\n",
    "    \n",
    "    cont_vals = [0.0 for i in selected_node.getStates()]\n",
    "    num_times = 10000\n",
    "    t = time()\n",
    "    for i in range(num_times):\n",
    "        s = sample(nodes)\n",
    "        cont_vals[s[selected_node.getIndex()]]+=1\n",
    "        data += [[cont_val/(i+1) for cont_val in cont_vals]]\n",
    "        if converge(data):\n",
    "            break\n",
    "    print 'Time: ' + str(time() - t) + 's'\n",
    "    df = pd.DataFrame(np.array(data), columns=selected_node.getStates())\n",
    "    print 'Probabilidade: '\n",
    "    print df.tail(1)\n",
    "    \n",
    "    \n",
    "    df.plot(figsize=(15,5), title=\"Grafico de Convergencia\")\n",
    "    return df\n"
   ]
  },
  {
   "cell_type": "markdown",
   "metadata": {},
   "source": [
    "## Resultado"
   ]
  },
  {
   "cell_type": "markdown",
   "metadata": {},
   "source": [
    "É o resultado da chamada a função do gibbs_sampling."
   ]
  },
  {
   "cell_type": "code",
   "execution_count": 17,
   "metadata": {},
   "outputs": [
    {
     "name": "stdout",
     "output_type": "stream",
     "text": [
      "[0.012987012987012988, 0.987012987012987]\n",
      "[0.013, 0.987]\n",
      "Time: 0.0459141731262s\n",
      "Probabilidade: \n",
      "           yes        no\n",
      "1000  0.012987  0.987013\n"
     ]
    },
    {
     "data": {
      "image/png": "[encoded data removed]",
      "text/plain": [
       "<Figure size 1080x360 with 1 Axes>"
      ]
     },
     "metadata": {
      "needs_background": "light"
     },
     "output_type": "display_data"
    }
   ],
   "source": [
    "df = gibbs_sampling('data/ASIA/asia.bif', 1)"
   ]
  },
  {
   "cell_type": "markdown",
   "metadata": {},
   "source": [
    "## Conclusão "
   ]
  },
  {
   "cell_type": "markdown",
   "metadata": {},
   "source": [
    "Com o realizar deste trabalho podemos perceber que podemos calcular os valores de probabilidade a partir da rede Bayesiana."
   ]
  },
  {
   "cell_type": "code",
   "execution_count": null,
   "metadata": {},
   "outputs": [],
   "source": []
  }
 ],
 "metadata": {
  "kernelspec": {
   "display_name": "Python 2",
   "language": "python",
   "name": "python2"
  },
  "language_info": {
   "codemirror_mode": {
    "name": "ipython",
    "version": 2
   },
   "file_extension": ".py",
   "mimetype": "text/x-python",
   "name": "python",
   "nbconvert_exporter": "python",
   "pygments_lexer": "ipython2",
   "version": "2.7.17"
  }
 },
 "nbformat": 4,
 "nbformat_minor": 4
}
