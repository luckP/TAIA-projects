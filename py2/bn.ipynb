{
 "cells": [
  {
   "cell_type": "code",
   "execution_count": 29,
   "metadata": {},
   "outputs": [],
   "source": [
    "from BIFParser import *\n",
    "import Factor\n",
    "\n",
    "from random import uniform\n",
    "import numpy as np\n",
    "import pandas as pd\n",
    "import copy\n",
    "from matplotlib.pyplot import plot\n",
    "from matplotlib.pyplot import figure\n",
    "\n",
    "from time import time"
   ]
  },
  {
   "cell_type": "code",
   "execution_count": 10,
   "metadata": {},
   "outputs": [],
   "source": [
    "def generate_nodes(path):\n",
    "    file = open(path)\n",
    "    BIF = file.readlines()\n",
    "    BIF = fixWhiteSpace(BIF)\n",
    "    return parseBIF(BIF)"
   ]
  },
  {
   "cell_type": "code",
   "execution_count": 108,
   "metadata": {},
   "outputs": [],
   "source": [
    "def selectIndex(dist, val):\n",
    "    n = 0\n",
    "    for i in range(len(dist)) :\n",
    "        n += dist[i]\n",
    "        if n>=val:\n",
    "            return i\n",
    "\n",
    "def getValue(rv, v, n):\n",
    "    if(rv[n.getIndex()]!=None):\n",
    "        return rv[n.getIndex()]\n",
    "    if n.numParents() == 0:\n",
    "        rv[n.getIndex()] = selectIndex(n.getDist().values()[0], v[n.getIndex()])\n",
    "        return rv[n.getIndex()]\n",
    "    key = ((n.getStates(), ))\n",
    "    p_key = ()\n",
    "    for p in n.getParents():\n",
    "        p_key += (p.getStates()[getValue(rv, v, p)], )\n",
    "    key+= (p_key, )\n",
    "    rv[n.getIndex()] = selectIndex(n.getDist()[key], v[n.getIndex()])\n",
    "    return rv[n.getIndex()]\n",
    "\n",
    "def sample(nodes, node=None, val_index=None):\n",
    "    v = [uniform(0,1) for n in nodes]\n",
    "    rv = {n.getIndex(): None for n in nodes}\n",
    "    if(node!=None and val_index!=None):\n",
    "        rv[node.getIndex()] = val_index\n",
    "    sample = []\n",
    "    for n in nodes:\n",
    "        sample.append(getValue(rv, v, n))\n",
    "    return sample"
   ]
  },
  {
   "cell_type": "code",
   "execution_count": 82,
   "metadata": {},
   "outputs": [],
   "source": [
    "def converge(last_values, new_values):\n",
    "    val = 0\n",
    "    for i in range(len(last_values)):\n",
    "        val += np.abs(last_values[i] - new_values[i])\n",
    "        \n",
    "    return True if val <= 0.0000001 else False"
   ]
  },
  {
   "cell_type": "code",
   "execution_count": 92,
   "metadata": {},
   "outputs": [],
   "source": [
    "def hope(nodes, sample, n):\n",
    "    b = 1.0\n",
    "    a = 1.0\n",
    "    \n",
    "    for node in n.getChildren():\n",
    "        key = (node.getStates(), )\n",
    "        p_vals = ()\n",
    "        for p in node.getParents():\n",
    "            states = p.getStates()\n",
    "            p_vals += (states[sample[p.getIndex()]], )\n",
    "        key += (p_vals, )\n",
    "        b *= node.dist.get(key)[sample[node.getIndex()]]\n",
    "        a *= 1-node.dist.get(key)[sample[node.getIndex()]]\n",
    "        \n",
    "    if n.isRoot():\n",
    "        b *= n.dist.get(n.getStates())[int(sample[n.getIndex()])]\n",
    "        a *= 1-n.dist.get(n.getStates())[int(sample[n.getIndex()])]\n",
    "    else:\n",
    "        key = (n.getStates(), )\n",
    "        p_vals = ()\n",
    "        for p in n.getParents():\n",
    "            states = p.getStates()\n",
    "            p_vals += (states[sample[p.getIndex()]], )\n",
    "        key += (p_vals, )\n",
    "        b *= n.dist.get(key)[sample[n.getIndex()]]\n",
    "        a *= 1-n.dist.get(key)[sample[n.getIndex()]]\n",
    "        \n",
    "\n",
    "    a = b + a\n",
    "    return b/a if a!= 0 else 0"
   ]
  },
  {
   "cell_type": "code",
   "execution_count": 186,
   "metadata": {},
   "outputs": [],
   "source": [
    "def gibbs_sampling(path):\n",
    "#     chart_data = []\n",
    "    nodes = generate_nodes(path)\n",
    "#     num_int = 0\n",
    "#     len_nodes = len(nodes)\n",
    "#     last_values = [uniform(0, 1) for i in range(len_nodes)]\n",
    "#     new_values = [uniform(0, 1) for i in range(len_nodes)]\n",
    "    \n",
    "    selected_node = nodes[0]\n",
    "    selected_node_vals = 1\n",
    "    test_data = []\n",
    "    \n",
    "    cont_vals = [0.0 for i in selected_node.getStates()]\n",
    "    num_times = 1000\n",
    "    t = time()\n",
    "    for i in range(num_times):\n",
    "        s = sample(nodes)\n",
    "        cont_vals[s[selected_node.getIndex()]]+=1\n",
    "        test_data += [[cont_val/(i+1) for cont_val in cont_vals]]\n",
    "        \n",
    "    print time() - t\n",
    "    df = pd.DataFrame(np.array(test_data), columns=selected_node.getStates())\n",
    "    df.plot(figsize=(15,5))\n",
    "    return df\n"
   ]
  },
  {
   "cell_type": "code",
   "execution_count": 187,
   "metadata": {},
   "outputs": [
    {
     "name": "stdout",
     "output_type": "stream",
     "text": [
      "17.1926050186\n"
     ]
    },
    {
     "data": {
      "image/png": "[encoded data removed]",
      "text/plain": [
       "<Figure size 1080x360 with 1 Axes>"
      ]
     },
     "metadata": {
      "needs_background": "light"
     },
     "output_type": "display_data"
    }
   ],
   "source": [
    "df = gibbs_sampling('data/ANDES/andes.bif')"
   ]
  },
  {
   "cell_type": "code",
   "execution_count": 183,
   "metadata": {},
   "outputs": [
    {
     "data": {
      "text/html": [
       "<div>\n",
       "<style scoped>\n",
       "    .dataframe tbody tr th:only-of-type {\n",
       "        vertical-align: middle;\n",
       "    }\n",
       "\n",
       "    .dataframe tbody tr th {\n",
       "        vertical-align: top;\n",
       "    }\n",
       "\n",
       "    .dataframe thead th {\n",
       "        text-align: right;\n",
       "    }\n",
       "</style>\n",
       "<table border=\"1\" class=\"dataframe\">\n",
       "  <thead>\n",
       "    <tr style=\"text-align: right;\">\n",
       "      <th></th>\n",
       "      <th>false</th>\n",
       "      <th>true</th>\n",
       "    </tr>\n",
       "  </thead>\n",
       "  <tbody>\n",
       "    <tr>\n",
       "      <th>999</th>\n",
       "      <td>0.018</td>\n",
       "      <td>0.982</td>\n",
       "    </tr>\n",
       "  </tbody>\n",
       "</table>\n",
       "</div>"
      ],
      "text/plain": [
       "     false   true\n",
       "999  0.018  0.982"
      ]
     },
     "execution_count": 183,
     "metadata": {},
     "output_type": "execute_result"
    }
   ],
   "source": [
    "df.tail(1)"
   ]
  },
  {
   "cell_type": "code",
   "execution_count": 14,
   "metadata": {},
   "outputs": [
    {
     "data": {
      "text/plain": [
       "0.99"
      ]
     },
     "execution_count": 14,
     "metadata": {},
     "output_type": "execute_result"
    }
   ],
   "source": [
    "n[0].dist.values()[0][1]\n",
    "\n",
    "# for nn in n:\n",
    "#     print nn.printNode()\n",
    "#     print nn.getDist().keys()"
   ]
  },
  {
   "cell_type": "code",
   "execution_count": 33,
   "metadata": {},
   "outputs": [
    {
     "data": {
      "text/plain": [
       "1.0"
      ]
     },
     "execution_count": 33,
     "metadata": {},
     "output_type": "execute_result"
    }
   ],
   "source": [
    "np.abs(2.0-1)"
   ]
  },
  {
   "cell_type": "code",
   "execution_count": 79,
   "metadata": {},
   "outputs": [
    {
     "data": {
      "text/plain": [
       "{('yes', 'no'): (0.01, 0.99)}"
      ]
     },
     "execution_count": 79,
     "metadata": {},
     "output_type": "execute_result"
    }
   ],
   "source": [
    "n[0].dist"
   ]
  },
  {
   "cell_type": "code",
   "execution_count": 25,
   "metadata": {},
   "outputs": [
    {
     "name": "stdout",
     "output_type": "stream",
     "text": [
      "None\n"
     ]
    }
   ],
   "source": [
    "print n[0].dist.get(\"('yes', 'no')"
   ]
  },
  {
   "cell_type": "code",
   "execution_count": 82,
   "metadata": {},
   "outputs": [
    {
     "data": {
      "text/plain": [
       "[<Node.Node instance at 0x1058d3488>]"
      ]
     },
     "execution_count": 82,
     "metadata": {},
     "output_type": "execute_result"
    }
   ],
   "source": [
    "n[1].getParents()"
   ]
  },
  {
   "cell_type": "code",
   "execution_count": 86,
   "metadata": {},
   "outputs": [
    {
     "data": {
      "text/plain": [
       "('yes', 'no')"
      ]
     },
     "execution_count": 86,
     "metadata": {},
     "output_type": "execute_result"
    }
   ],
   "source": [
    "n[1].getStates()"
   ]
  },
  {
   "cell_type": "code",
   "execution_count": 87,
   "metadata": {},
   "outputs": [
    {
     "data": {
      "text/plain": [
       "{(('yes', 'no'), ('no',)): (0.01, 0.99),\n",
       " (('yes', 'no'), ('yes',)): (0.05, 0.95)}"
      ]
     },
     "execution_count": 87,
     "metadata": {},
     "output_type": "execute_result"
    }
   ],
   "source": [
    "n[1].getDist()"
   ]
  },
  {
   "cell_type": "code",
   "execution_count": 89,
   "metadata": {},
   "outputs": [
    {
     "data": {
      "text/plain": [
       "[<Node.Node instance at 0x11b4680e0>]"
      ]
     },
     "execution_count": 89,
     "metadata": {},
     "output_type": "execute_result"
    }
   ],
   "source": [
    "n[1].getParents()"
   ]
  },
  {
   "cell_type": "code",
   "execution_count": null,
   "metadata": {},
   "outputs": [],
   "source": []
  }
 ],
 "metadata": {
  "kernelspec": {
   "display_name": "Python 2",
   "language": "python",
   "name": "python2"
  },
  "language_info": {
   "codemirror_mode": {
    "name": "ipython",
    "version": 2
   },
   "file_extension": ".py",
   "mimetype": "text/x-python",
   "name": "python",
   "nbconvert_exporter": "python",
   "pygments_lexer": "ipython2",
   "version": "2.7.16"
  }
 },
 "nbformat": 4,
 "nbformat_minor": 4
}
