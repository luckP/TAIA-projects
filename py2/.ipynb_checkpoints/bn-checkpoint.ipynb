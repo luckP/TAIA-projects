{
 "cells": [
  {
   "cell_type": "code",
   "execution_count": 29,
   "metadata": {},
   "outputs": [],
   "source": [
    "from BIFParser import *\n",
    "import Factor\n",
    "\n",
    "from random import uniform\n",
    "import numpy as np\n",
    "import pandas as pd\n",
    "import copy\n",
    "from matplotlib.pyplot import plot\n",
    "from matplotlib.pyplot import figure\n",
    "\n",
    "from time import time"
   ]
  },
  {
   "cell_type": "code",
   "execution_count": 111,
   "metadata": {},
   "outputs": [
    {
     "name": "stdout",
     "output_type": "stream",
     "text": [
      "0.0024881362915\n"
     ]
    }
   ],
   "source": [
    "# print n[2].dist\n",
    "# print n[2].getStates()\n",
    "\n",
    "# num_test = uniform(0,99)\n",
    "# print num_test\n",
    "# num_test = int(num_test / len(n[2].getStates()))\n",
    "# print num_test\n",
    "# print int(num_test%len(n[2].getStates()))\n",
    "# print n[2].getStates()[int(num_test%len(n[2].getStates()))]\n",
    "\n",
    "\n",
    "# for nn in n[5].getParents():\n",
    "#     print nn.getIndex(),\n",
    "    \n",
    "    \n",
    "# n[5].printNode()\n",
    "test_nodes = generate_nodes('data/ASIA/asia.bif')\n",
    "t = time()\n",
    "num = 10\n",
    "a = []\n",
    "for i in range (num):\n",
    "    a+=[sample(test_nodes, test_nodes[0], 0)]\n",
    "print time() - t\n",
    "\n",
    "df = pd.DataFrame(np.array(a), columns=[n.getName() for n in test_nodes] )\n",
    "#     print generate_sample_values(test_nodes)\n",
    "# test_nodes[1].getDist()"
   ]
  },
  {
   "cell_type": "code",
   "execution_count": 112,
   "metadata": {},
   "outputs": [
    {
     "data": {
      "text/html": [
       "<div>\n",
       "<style scoped>\n",
       "    .dataframe tbody tr th:only-of-type {\n",
       "        vertical-align: middle;\n",
       "    }\n",
       "\n",
       "    .dataframe tbody tr th {\n",
       "        vertical-align: top;\n",
       "    }\n",
       "\n",
       "    .dataframe thead th {\n",
       "        text-align: right;\n",
       "    }\n",
       "</style>\n",
       "<table border=\"1\" class=\"dataframe\">\n",
       "  <thead>\n",
       "    <tr style=\"text-align: right;\">\n",
       "      <th></th>\n",
       "      <th>asia</th>\n",
       "      <th>tub</th>\n",
       "      <th>smoke</th>\n",
       "      <th>lung</th>\n",
       "      <th>bronc</th>\n",
       "      <th>either</th>\n",
       "      <th>xray</th>\n",
       "      <th>dysp</th>\n",
       "    </tr>\n",
       "  </thead>\n",
       "  <tbody>\n",
       "    <tr>\n",
       "      <th>0</th>\n",
       "      <td>0</td>\n",
       "      <td>1</td>\n",
       "      <td>1</td>\n",
       "      <td>1</td>\n",
       "      <td>0</td>\n",
       "      <td>1</td>\n",
       "      <td>1</td>\n",
       "      <td>1</td>\n",
       "    </tr>\n",
       "    <tr>\n",
       "      <th>1</th>\n",
       "      <td>0</td>\n",
       "      <td>1</td>\n",
       "      <td>1</td>\n",
       "      <td>1</td>\n",
       "      <td>1</td>\n",
       "      <td>1</td>\n",
       "      <td>1</td>\n",
       "      <td>1</td>\n",
       "    </tr>\n",
       "    <tr>\n",
       "      <th>2</th>\n",
       "      <td>0</td>\n",
       "      <td>0</td>\n",
       "      <td>1</td>\n",
       "      <td>1</td>\n",
       "      <td>1</td>\n",
       "      <td>0</td>\n",
       "      <td>0</td>\n",
       "      <td>0</td>\n",
       "    </tr>\n",
       "    <tr>\n",
       "      <th>3</th>\n",
       "      <td>0</td>\n",
       "      <td>1</td>\n",
       "      <td>0</td>\n",
       "      <td>1</td>\n",
       "      <td>0</td>\n",
       "      <td>1</td>\n",
       "      <td>1</td>\n",
       "      <td>0</td>\n",
       "    </tr>\n",
       "    <tr>\n",
       "      <th>4</th>\n",
       "      <td>0</td>\n",
       "      <td>1</td>\n",
       "      <td>0</td>\n",
       "      <td>1</td>\n",
       "      <td>1</td>\n",
       "      <td>1</td>\n",
       "      <td>1</td>\n",
       "      <td>1</td>\n",
       "    </tr>\n",
       "    <tr>\n",
       "      <th>5</th>\n",
       "      <td>0</td>\n",
       "      <td>1</td>\n",
       "      <td>0</td>\n",
       "      <td>1</td>\n",
       "      <td>0</td>\n",
       "      <td>1</td>\n",
       "      <td>1</td>\n",
       "      <td>1</td>\n",
       "    </tr>\n",
       "    <tr>\n",
       "      <th>6</th>\n",
       "      <td>0</td>\n",
       "      <td>1</td>\n",
       "      <td>0</td>\n",
       "      <td>1</td>\n",
       "      <td>0</td>\n",
       "      <td>1</td>\n",
       "      <td>1</td>\n",
       "      <td>0</td>\n",
       "    </tr>\n",
       "    <tr>\n",
       "      <th>7</th>\n",
       "      <td>0</td>\n",
       "      <td>1</td>\n",
       "      <td>0</td>\n",
       "      <td>1</td>\n",
       "      <td>1</td>\n",
       "      <td>1</td>\n",
       "      <td>1</td>\n",
       "      <td>1</td>\n",
       "    </tr>\n",
       "    <tr>\n",
       "      <th>8</th>\n",
       "      <td>0</td>\n",
       "      <td>1</td>\n",
       "      <td>1</td>\n",
       "      <td>1</td>\n",
       "      <td>0</td>\n",
       "      <td>1</td>\n",
       "      <td>1</td>\n",
       "      <td>0</td>\n",
       "    </tr>\n",
       "    <tr>\n",
       "      <th>9</th>\n",
       "      <td>0</td>\n",
       "      <td>1</td>\n",
       "      <td>1</td>\n",
       "      <td>1</td>\n",
       "      <td>1</td>\n",
       "      <td>1</td>\n",
       "      <td>1</td>\n",
       "      <td>1</td>\n",
       "    </tr>\n",
       "  </tbody>\n",
       "</table>\n",
       "</div>"
      ],
      "text/plain": [
       "   asia  tub  smoke  lung  bronc  either  xray  dysp\n",
       "0     0    1      1     1      0       1     1     1\n",
       "1     0    1      1     1      1       1     1     1\n",
       "2     0    0      1     1      1       0     0     0\n",
       "3     0    1      0     1      0       1     1     0\n",
       "4     0    1      0     1      1       1     1     1\n",
       "5     0    1      0     1      0       1     1     1\n",
       "6     0    1      0     1      0       1     1     0\n",
       "7     0    1      0     1      1       1     1     1\n",
       "8     0    1      1     1      0       1     1     0\n",
       "9     0    1      1     1      1       1     1     1"
      ]
     },
     "execution_count": 112,
     "metadata": {},
     "output_type": "execute_result"
    }
   ],
   "source": []
  },
  {
   "cell_type": "code",
   "execution_count": 10,
   "metadata": {},
   "outputs": [],
   "source": [
    "def generate_nodes(path):\n",
    "    file = open(path)\n",
    "    BIF = file.readlines()\n",
    "    BIF = fixWhiteSpace(BIF)\n",
    "    return parseBIF(BIF)"
   ]
  },
  {
   "cell_type": "code",
   "execution_count": 108,
   "metadata": {},
   "outputs": [],
   "source": [
    "def selectIndex(dist, val):\n",
    "    n = 0\n",
    "    for i in range(len(dist)) :\n",
    "        n += dist[i]\n",
    "        if n>=val:\n",
    "            return i\n",
    "\n",
    "def getValue(rv, v, n):\n",
    "    if(rv[n.getIndex()]!=None):\n",
    "        return rv[n.getIndex()]\n",
    "    if n.numParents() == 0:\n",
    "        rv[n.getIndex()] = selectIndex(n.getDist().values()[0], v[n.getIndex()])\n",
    "        return rv[n.getIndex()]\n",
    "    key = ((n.getStates(), ))\n",
    "    p_key = ()\n",
    "    for p in n.getParents():\n",
    "        p_key += (p.getStates()[getValue(rv, v, p)], )\n",
    "    key+= (p_key, )\n",
    "    rv[n.getIndex()] = selectIndex(n.getDist()[key], v[n.getIndex()])\n",
    "    return rv[n.getIndex()]\n",
    "\n",
    "def sample(nodes, node=None, val_index=None):\n",
    "    v = [uniform(0,1) for n in nodes]\n",
    "    rv = {n.getIndex(): None for n in nodes}\n",
    "    if(node!=None and val_index!=None):\n",
    "        rv[node.getIndex()] = val_index\n",
    "    sample = []\n",
    "    for n in nodes:\n",
    "        sample.append(getValue(rv, v, n))\n",
    "    return sample"
   ]
  },
  {
   "cell_type": "code",
   "execution_count": 82,
   "metadata": {},
   "outputs": [],
   "source": [
    "def converge(last_values, new_values):\n",
    "    val = 0\n",
    "    for i in range(len(last_values)):\n",
    "        val += np.abs(last_values[i] - new_values[i])\n",
    "        \n",
    "    return True if val <= 0.0000001 else False"
   ]
  },
  {
   "cell_type": "code",
   "execution_count": 92,
   "metadata": {},
   "outputs": [],
   "source": [
    "def hope(nodes, sample, n):\n",
    "    b = 1.0\n",
    "    a = 1.0\n",
    "    \n",
    "    for node in n.getChildren():\n",
    "        key = (node.getStates(), )\n",
    "        p_vals = ()\n",
    "        for p in node.getParents():\n",
    "            states = p.getStates()\n",
    "            p_vals += (states[sample[p.getIndex()]], )\n",
    "        key += (p_vals, )\n",
    "        b *= node.dist.get(key)[sample[node.getIndex()]]\n",
    "        a *= 1-node.dist.get(key)[sample[node.getIndex()]]\n",
    "        \n",
    "    if n.isRoot():\n",
    "        b *= n.dist.get(n.getStates())[int(sample[n.getIndex()])]\n",
    "        a *= 1-n.dist.get(n.getStates())[int(sample[n.getIndex()])]\n",
    "    else:\n",
    "        key = (n.getStates(), )\n",
    "        p_vals = ()\n",
    "        for p in n.getParents():\n",
    "            states = p.getStates()\n",
    "            p_vals += (states[sample[p.getIndex()]], )\n",
    "        key += (p_vals, )\n",
    "        b *= n.dist.get(key)[sample[n.getIndex()]]\n",
    "        a *= 1-n.dist.get(key)[sample[n.getIndex()]]\n",
    "        \n",
    "    \n",
    "#     for i in range(len(nodes)):\n",
    "# #         print '-----------'\n",
    "#         if n.isRoot() and n.getName == nodes[i].getName:\n",
    "#             b *= n.dist.get(n.getStates())[int(sample[n.getIndex()])]\n",
    "#             a *= 1-nodes[j].dist.get(n.getStates())[int(v[j])]\n",
    "            \n",
    "#         elif n.getName == nodes[j].getName:\n",
    "#             key =  (n.getStates(), ) \n",
    "#             p_vals = ()\n",
    "#             for p in n.getParents():\n",
    "#                 states = p.getStates()\n",
    "#                 p_vals += (states[v[p.getIndex()]], )\n",
    "#             key += (p_vals, )\n",
    "            \n",
    "#             b *= nodes[j].dist.get(key)[int(v[j])]\n",
    "#             a *= 1-nodes[j].dist.get(key)[int(v[j])]\n",
    "            \n",
    "#         elif nodes[j].isParent(n):\n",
    "#             key = (nodes[j].getStates(), )\n",
    "#             p_vals = ()\n",
    "#             local_a = 0.0\n",
    "#             for p in  nodes[j].getParents():\n",
    "#                 states = p.getStates()\n",
    "#                 p_vals += (states[v[p.getIndex()]], )\n",
    "#             key += (p_vals, )\n",
    "#             b *= nodes[j].dist.get(key)[int(v[j])]\n",
    "            \n",
    "#             for state_index in range(len(n.getStates())):\n",
    "#                 if state_index != n.getIndex():\n",
    "#                     key = (nodes[j].getStates(), )\n",
    "#                     p_vals = ()\n",
    "#                     for p in  nodes[j].getParents():\n",
    "#                         states = p.getStates()\n",
    "#                         p_vals += (states[v[p.getIndex()] if p.getName()!=n.getName() else state_index], )\n",
    "#                     key += (p_vals, )\n",
    "#                     local_a += nodes[j].dist.get(key)[int(v[j])]\n",
    "# #                     if p.getName()==n.getName():  \n",
    "# #                     print key\n",
    "# #                     print local_a\n",
    "# #                     print  nodes[j].dist\n",
    "# #                     print nodes[j].dist.get(key)[int(v[j])]\n",
    "# #                     print v\n",
    "# #                     print key\n",
    "# #                     print j\n",
    "# #                     print nodes[j].getIndex()\n",
    "# #                     print '--------------------------------------------'\n",
    "#             a*=local_a\n",
    "#             print a\n",
    "    \n",
    "    \n",
    "#         elif nodes[j].isChildren(n):\n",
    "#             key =  (nodes[j].getStates(), ) \n",
    "            \n",
    "#             p_vals = ()\n",
    "#             for p in nodes[j].getParents():\n",
    "#                 states = p.getStates()\n",
    "#                 p_vals += (states[v[p.getIndex()]], )\n",
    "#             key += (p_vals, )\n",
    "            \n",
    "#             b *= nodes[j].dist.get(key)[int(v[j])]\n",
    "#             a *= np.sum( n.dist.get(key)[:int(v[j])]+n.dist.get(key)[int(v[j])+1:])\n",
    "        \n",
    "#         if key_b!=():\n",
    "# #             print nodes[j].dist\n",
    "#             b *= nodes[j].dist.get(key)[int(v[j])]\n",
    "#             a *= np.sum( nodes[j].dist.get(key)[:int(v[j])]+nodes[j].dist.get(key)[int(v[j])+1:])      \n",
    "            \n",
    "#         print key\n",
    "#         print b\n",
    "#         print a\n",
    "#         \n",
    "#     print '--------------------------------------------'\n",
    "    \n",
    "    a = b + a\n",
    "#     print a\n",
    "#     print b\n",
    "    return b/a if a!= 0 else 0\n",
    "#     return 0\n",
    "            \n",
    "            "
   ]
  },
  {
   "cell_type": "code",
   "execution_count": 172,
   "metadata": {},
   "outputs": [],
   "source": [
    "def gibbs_sampling(path):\n",
    "    chart_data = []\n",
    "    nodes = generate_nodes(path)\n",
    "    num_int = 0\n",
    "    len_nodes = len(nodes)\n",
    "    last_values = [uniform(0, 1) for i in range(len_nodes)]\n",
    "    new_values = [uniform(0, 1) for i in range(len_nodes)]\n",
    "    \n",
    "    selected_node = nodes[2]\n",
    "    selected_node_vals = 1\n",
    "    test_data = []\n",
    "    \n",
    "#     while not converge(last_values, new_values) and num_int<20:\n",
    "#         num_int+=1\n",
    "#         last_values = copy.deepcopy(new_values)\n",
    "#         new_values = [hope(nodes, sample(nodes, selected_node, selected_node_vals), nodes[i]) for i in range(len_nodes)]\n",
    "#         print new_values\n",
    "#         chart_data.append(hope(nodes, sample(nodes), nodes[0]))\n",
    "# #         print last_values\n",
    "# #         print new_values\n",
    "# #         print generate_sample_values(len_nodes, 0,last_values) \n",
    "\n",
    "\n",
    "\n",
    "\n",
    "\n",
    "    cont_vals = [0.0 for i in selected_node.getStates()]\n",
    "    num_times = 10000\n",
    "    t = time()\n",
    "    for i in range(num_times):\n",
    "        s = sample(nodes)\n",
    "        cont_vals[s[selected_node.getIndex()]]+=1\n",
    "#         if s[selected_node.getIndex()] == selected_node_vals:\n",
    "#             cont_val+=1\n",
    "        test_data += [[cont_val/(i+1) for cont_val in cont_vals]]\n",
    "        \n",
    "    print time() - t\n",
    "#     plot(range(num_times), test_data)\n",
    "#     figure(num=None, figsize=(10, 4), dpi=80, facecolor='w', edgecolor='k')\n",
    "    df = pd.DataFrame(np.array(test_data))\n",
    "    df.plot(figsize=(15,5))\n",
    "    return df\n",
    "\n",
    "        \n",
    "#     plot(range(len(chart_data)), np.array(chart_data), scalex=500)\n",
    "#     print len(chart_data)\n",
    "#     np.seterr('raise')\n",
    "#     return new_values"
   ]
  },
  {
   "cell_type": "code",
   "execution_count": null,
   "metadata": {},
   "outputs": [],
   "source": [
    "df = gibbs_sampling('data/PATHFINDER/pathfinder.bif')"
   ]
  },
  {
   "cell_type": "code",
   "execution_count": 43,
   "metadata": {},
   "outputs": [
    {
     "name": "stdout",
     "output_type": "stream",
     "text": [
      "asia\n",
      "Index: \n",
      "0\n",
      "Parents: \n",
      "CPD: \n",
      "{('yes', 'no'): (0.01, 0.99)}\n",
      "Children: \n",
      "tub\n",
      "\n",
      "None\n",
      "tub\n",
      "Index: \n",
      "1\n",
      "Parents: \n",
      "asia\n",
      "CPD: \n",
      "{(('yes', 'no'), ('yes',)): (0.05, 0.95), (('yes', 'no'), ('no',)): (0.01, 0.99)}\n",
      "Children: \n",
      "either\n",
      "\n",
      "None\n",
      "smoke\n",
      "Index: \n",
      "2\n",
      "Parents: \n",
      "CPD: \n",
      "{('yes', 'no'): (0.5, 0.5)}\n",
      "Children: \n",
      "lung\n",
      "bronc\n",
      "\n",
      "None\n",
      "lung\n",
      "Index: \n",
      "3\n",
      "Parents: \n",
      "smoke\n",
      "CPD: \n",
      "{(('yes', 'no'), ('yes',)): (0.1, 0.9), (('yes', 'no'), ('no',)): (0.01, 0.99)}\n",
      "Children: \n",
      "either\n",
      "\n",
      "None\n",
      "bronc\n",
      "Index: \n",
      "4\n",
      "Parents: \n",
      "smoke\n",
      "CPD: \n",
      "{(('yes', 'no'), ('yes',)): (0.6, 0.4), (('yes', 'no'), ('no',)): (0.3, 0.7)}\n",
      "Children: \n",
      "dysp\n",
      "\n",
      "None\n",
      "either\n",
      "Index: \n",
      "5\n",
      "Parents: \n",
      "lung\n",
      "tub\n",
      "CPD: \n",
      "{(('yes', 'no'), ('no', 'yes')): (1.0, 0.0), (('yes', 'no'), ('yes', 'no')): (1.0, 0.0), (('yes', 'no'), ('no', 'no')): (0.0, 1.0), (('yes', 'no'), ('yes', 'yes')): (1.0, 0.0)}\n",
      "Children: \n",
      "xray\n",
      "dysp\n",
      "\n",
      "None\n",
      "xray\n",
      "Index: \n",
      "6\n",
      "Parents: \n",
      "either\n",
      "CPD: \n",
      "{(('yes', 'no'), ('yes',)): (0.98, 0.02), (('yes', 'no'), ('no',)): (0.05, 0.95)}\n",
      "Children: \n",
      "\n",
      "None\n",
      "dysp\n",
      "Index: \n",
      "7\n",
      "Parents: \n",
      "bronc\n",
      "either\n",
      "CPD: \n",
      "{(('yes', 'no'), ('no', 'yes')): (0.7, 0.3), (('yes', 'no'), ('yes', 'no')): (0.8, 0.2), (('yes', 'no'), ('no', 'no')): (0.1, 0.9), (('yes', 'no'), ('yes', 'yes')): (0.9, 0.1)}\n",
      "Children: \n",
      "\n",
      "None\n"
     ]
    }
   ],
   "source": [
    "file = open('data/ASIA/asia.bif')\n",
    "BIF = file.readlines()\n",
    "BIF = fixWhiteSpace(BIF)\n",
    "n = parseBIF(BIF)\n",
    "for nn in n:\n",
    "    print nn.printNode()"
   ]
  },
  {
   "cell_type": "code",
   "execution_count": 14,
   "metadata": {},
   "outputs": [
    {
     "data": {
      "text/plain": [
       "0.99"
      ]
     },
     "execution_count": 14,
     "metadata": {},
     "output_type": "execute_result"
    }
   ],
   "source": [
    "n[0].dist.values()[0][1]\n",
    "\n",
    "# for nn in n:\n",
    "#     print nn.printNode()\n",
    "#     print nn.getDist().keys()"
   ]
  },
  {
   "cell_type": "code",
   "execution_count": 33,
   "metadata": {},
   "outputs": [
    {
     "data": {
      "text/plain": [
       "1.0"
      ]
     },
     "execution_count": 33,
     "metadata": {},
     "output_type": "execute_result"
    }
   ],
   "source": [
    "np.abs(2.0-1)"
   ]
  },
  {
   "cell_type": "code",
   "execution_count": 79,
   "metadata": {},
   "outputs": [
    {
     "data": {
      "text/plain": [
       "{('yes', 'no'): (0.01, 0.99)}"
      ]
     },
     "execution_count": 79,
     "metadata": {},
     "output_type": "execute_result"
    }
   ],
   "source": [
    "n[0].dist"
   ]
  },
  {
   "cell_type": "code",
   "execution_count": 25,
   "metadata": {},
   "outputs": [
    {
     "name": "stdout",
     "output_type": "stream",
     "text": [
      "None\n"
     ]
    }
   ],
   "source": [
    "print n[0].dist.get(\"('yes', 'no')"
   ]
  },
  {
   "cell_type": "code",
   "execution_count": 82,
   "metadata": {},
   "outputs": [
    {
     "data": {
      "text/plain": [
       "[<Node.Node instance at 0x1058d3488>]"
      ]
     },
     "execution_count": 82,
     "metadata": {},
     "output_type": "execute_result"
    }
   ],
   "source": [
    "n[1].getParents()"
   ]
  },
  {
   "cell_type": "code",
   "execution_count": 86,
   "metadata": {},
   "outputs": [
    {
     "data": {
      "text/plain": [
       "('yes', 'no')"
      ]
     },
     "execution_count": 86,
     "metadata": {},
     "output_type": "execute_result"
    }
   ],
   "source": [
    "n[1].getStates()"
   ]
  },
  {
   "cell_type": "code",
   "execution_count": 87,
   "metadata": {},
   "outputs": [
    {
     "data": {
      "text/plain": [
       "{(('yes', 'no'), ('no',)): (0.01, 0.99),\n",
       " (('yes', 'no'), ('yes',)): (0.05, 0.95)}"
      ]
     },
     "execution_count": 87,
     "metadata": {},
     "output_type": "execute_result"
    }
   ],
   "source": [
    "n[1].getDist()"
   ]
  },
  {
   "cell_type": "code",
   "execution_count": 89,
   "metadata": {},
   "outputs": [
    {
     "data": {
      "text/plain": [
       "[<Node.Node instance at 0x11b4680e0>]"
      ]
     },
     "execution_count": 89,
     "metadata": {},
     "output_type": "execute_result"
    }
   ],
   "source": [
    "n[1].getParents()"
   ]
  },
  {
   "cell_type": "code",
   "execution_count": null,
   "metadata": {},
   "outputs": [],
   "source": []
  }
 ],
 "metadata": {
  "kernelspec": {
   "display_name": "Python 2",
   "language": "python",
   "name": "python2"
  },
  "language_info": {
   "codemirror_mode": {
    "name": "ipython",
    "version": 2
   },
   "file_extension": ".py",
   "mimetype": "text/x-python",
   "name": "python",
   "nbconvert_exporter": "python",
   "pygments_lexer": "ipython2",
   "version": "2.7.16"
  }
 },
 "nbformat": 4,
 "nbformat_minor": 4
}
